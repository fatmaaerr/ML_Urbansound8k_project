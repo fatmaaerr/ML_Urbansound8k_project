{
 "cells": [
  {
   "cell_type": "code",
   "execution_count": 1,
   "id": "9cd9920e",
   "metadata": {},
   "outputs": [
    {
     "name": "stdout",
     "output_type": "stream",
     "text": [
      "TensorFlow version: 2.6.0\n"
     ]
    }
   ],
   "source": [
    "import tensorflow as tf\n",
    "print(\"TensorFlow version:\", tf.__version__)\n",
    "\n",
    "\n",
    "import wave"
   ]
  },
  {
   "cell_type": "code",
   "execution_count": 2,
   "id": "2c6cc264",
   "metadata": {},
   "outputs": [],
   "source": [
    "import librosa\n",
    "import pandas as pd\n",
    "import os\n",
    "import numpy as np\n",
    "from tqdm import tqdm\n",
    "\n",
    "from sklearn.model_selection import train_test_split \n",
    "from sklearn.preprocessing import LabelEncoder\n",
    "\n",
    "import tensorflow as tf\n",
    "from tensorflow.keras.utils import to_categorical\n",
    "from tensorflow.keras.models import Sequential\n",
    "from tensorflow.keras.layers import Dense , Activation , Dropout\n",
    "\n",
    "import IPython.display as ip"
   ]
  },
  {
   "cell_type": "code",
   "execution_count": 3,
   "id": "e77a6843",
   "metadata": {},
   "outputs": [],
   "source": [
    "#importing  libraries\n",
    "#Keras\n",
    "import tensorflow.keras\n",
    "from tensorflow.keras import regularizers, layers\n",
    "from tensorflow.keras.preprocessing import sequence\n",
    "from tensorflow.keras.preprocessing.text import Tokenizer\n",
    "from tensorflow.keras.preprocessing.sequence import pad_sequences\n",
    "from tensorflow.keras.models import Sequential, Model, model_from_json\n",
    "from tensorflow.keras.layers import Dense, Embedding, LSTM\n",
    "from tensorflow.keras.layers import Input, Flatten, Dropout, Activation, BatchNormalization\n",
    "from tensorflow.keras.layers import Conv2D, MaxPooling2D, AveragePooling1D\n",
    "from tensorflow.keras.utils import to_categorical\n",
    "from tensorflow.keras.callbacks import ModelCheckpoint\n",
    "\n",
    "#sklearn\n",
    "from sklearn.metrics import confusion_matrix, accuracy_score, classification_report\n",
    "from sklearn.model_selection import train_test_split\n",
    "from sklearn.preprocessing import LabelEncoder\n",
    "\n",
    "#Others\n",
    "import librosa\n",
    "import librosa.display\n",
    "import json\n",
    "import numpy as np\n",
    "import matplotlib.pyplot as plt\n",
    "from matplotlib.pyplot import specgram\n",
    "import tensorflow as tf\n",
    "import pandas as pd\n",
    "import seaborn as sns\n",
    "import glob\n",
    "import os\n",
    "import pickle\n",
    "import IPython.display as ipd\n",
    "import csv\n",
    "from tqdm import tqdm\n",
    "import os\n",
    "\n",
    "\n",
    "import sys\n",
    "import os\n",
    "import IPython\n",
    "import math\n",
    "import numpy as np\n",
    "import pandas as pd\n",
    "import pickle\n",
    "import matplotlib.pyplot as plt\n",
    "%matplotlib inline\n",
    "\n",
    "import random\n",
    "from datetime import datetime\n",
    "#from include import helpers\n",
    "\n",
    "from tensorflow.keras import backend as keras_backend\n",
    "from tensorflow.keras.models import Sequential, load_model\n",
    "from tensorflow.keras.layers import Dense, SpatialDropout2D, Activation, Conv2D, MaxPooling2D, BatchNormalization, GlobalAveragePooling2D, LeakyReLU\n",
    "from tensorflow.keras.optimizers import Adam\n",
    "from tensorflow.keras.utils import to_categorical\n",
    "from tensorflow.keras.callbacks import ModelCheckpoint \n",
    "from tensorflow.keras.regularizers import l2\n",
    "\n",
    "from sklearn.preprocessing import LabelEncoder\n",
    "from sklearn.metrics import classification_report, confusion_matrix"
   ]
  },
  {
   "cell_type": "code",
   "execution_count": 4,
   "id": "e776a9f9",
   "metadata": {},
   "outputs": [
    {
     "data": {
      "text/plain": [
       "((4499, 40), (4499, 1), (4233, 41), (4233, 2))"
      ]
     },
     "execution_count": 4,
     "metadata": {},
     "output_type": "execute_result"
    }
   ],
   "source": [
    "#split the dataset into train and test\n",
    "X_train = pd.read_csv('https://raw.githubusercontent.com/fatmaaerr/ML_Urbansound8k_project/main/Data/X_train_mfcc.csv')\n",
    "y_train = pd.read_csv('https://raw.githubusercontent.com/fatmaaerr/ML_Urbansound8k_project/main/Data/y_train_mfcc.csv')\n",
    "X_test = pd.read_csv('https://raw.githubusercontent.com/fatmaaerr/ML_Urbansound8k_project/main/Data/X_test_mfcc.csv')\n",
    "y_test = pd.read_csv('https://raw.githubusercontent.com/fatmaaerr/ML_Urbansound8k_project/main/Data/y_test_mfcc.csv')\n",
    "#take a peak at the data\n",
    "X_train.shape, y_train.shape, X_test.shape, y_test.shape"
   ]
  },
  {
   "cell_type": "code",
   "execution_count": 5,
   "id": "b340f9b0",
   "metadata": {},
   "outputs": [],
   "source": [
    "#One hot encode labels\n",
    "\n",
    "le = LabelEncoder()\n",
    "\n",
    "def encoding_y(data):\n",
    "  data = np.array(data['label'])\n",
    "  data = to_categorical(le.fit_transform(data))\n",
    "  return data\n",
    "\n",
    "y_train = encoding_y(y_train)\n",
    "y_test = encoding_y(y_test)"
   ]
  },
  {
   "cell_type": "code",
   "execution_count": 6,
   "id": "713a83ee",
   "metadata": {},
   "outputs": [],
   "source": [
    "X_test = X_test.iloc[:,1:41]\n",
    "\n",
    "def standardization(data):\n",
    "  mean = np.mean(data,axis=0)\n",
    "  std = np.std(data, axis=0)\n",
    "  data =( data - mean)/std\n",
    "  data = np.array(data)\n",
    "  data=np.reshape(data,(data.shape[0], 40, 1))\n",
    "  return data\n",
    "\n",
    "X_train = standardization(X_train)\n",
    "X_test = standardization(X_test)"
   ]
  },
  {
   "cell_type": "code",
   "execution_count": 7,
   "id": "7d726eb7",
   "metadata": {},
   "outputs": [],
   "source": [
    "model = tf.keras.Sequential(\n",
    "    [\n",
    "     tf.keras.layers.LSTM(\n",
    "         units=128,activation='relu',\n",
    "         return_sequences=True,\n",
    "         input_shape=(40,1)\n",
    "     ),\n",
    "     tf.keras.layers.LSTM(\n",
    "         units=64,activation='relu'\n",
    "     ),\n",
    "     tf.keras.layers.Dense(\n",
    "         units=32,\n",
    "         activation='relu'\n",
    "     ),\n",
    "\n",
    "     tf.keras.layers.Dense(\n",
    "         units=10,\n",
    "         activation='softmax'\n",
    "     )\n",
    "\n",
    "    ]\n",
    ")"
   ]
  },
  {
   "cell_type": "code",
   "execution_count": 8,
   "id": "6040c6b3",
   "metadata": {},
   "outputs": [
    {
     "name": "stdout",
     "output_type": "stream",
     "text": [
      "Model: \"sequential\"\n",
      "_________________________________________________________________\n",
      "Layer (type)                 Output Shape              Param #   \n",
      "=================================================================\n",
      "lstm (LSTM)                  (None, 40, 128)           66560     \n",
      "_________________________________________________________________\n",
      "lstm_1 (LSTM)                (None, 64)                49408     \n",
      "_________________________________________________________________\n",
      "dense (Dense)                (None, 32)                2080      \n",
      "_________________________________________________________________\n",
      "dense_1 (Dense)              (None, 10)                330       \n",
      "=================================================================\n",
      "Total params: 118,378\n",
      "Trainable params: 118,378\n",
      "Non-trainable params: 0\n",
      "_________________________________________________________________\n"
     ]
    }
   ],
   "source": [
    "model.compile(loss='categorical_crossentropy', optimizer='adam', metrics=[\"accuracy\"])\n",
    "model.summary()"
   ]
  },
  {
   "cell_type": "code",
   "execution_count": 9,
   "id": "48f43d46",
   "metadata": {},
   "outputs": [
    {
     "name": "stdout",
     "output_type": "stream",
     "text": [
      "Train...\n",
      "Epoch 1/120\n",
      "71/71 [==============================] - 53s 640ms/step - loss: 2.2028 - accuracy: 0.1785 - val_loss: 2.1834 - val_accuracy: 0.1779\n",
      "Epoch 2/120\n",
      "71/71 [==============================] - 44s 619ms/step - loss: 2.0750 - accuracy: 0.2272 - val_loss: 2.1022 - val_accuracy: 0.2221\n",
      "Epoch 3/120\n",
      "71/71 [==============================] - 53s 752ms/step - loss: 1.9895 - accuracy: 0.2734 - val_loss: 2.0415 - val_accuracy: 0.2844\n",
      "Epoch 4/120\n",
      "71/71 [==============================] - 53s 751ms/step - loss: 1.8768 - accuracy: 0.3163 - val_loss: 1.9943 - val_accuracy: 0.2648\n",
      "Epoch 5/120\n",
      "71/71 [==============================] - 45s 641ms/step - loss: 1.7684 - accuracy: 0.3632 - val_loss: 1.9073 - val_accuracy: 0.3501\n",
      "Epoch 6/120\n",
      "71/71 [==============================] - 38s 543ms/step - loss: 1.5859 - accuracy: 0.4412 - val_loss: 1.8950 - val_accuracy: 0.3546\n",
      "Epoch 7/120\n",
      "71/71 [==============================] - 28s 394ms/step - loss: 1.4868 - accuracy: 0.4748 - val_loss: 1.8393 - val_accuracy: 0.3808\n",
      "Epoch 8/120\n",
      "71/71 [==============================] - 25s 358ms/step - loss: 1.3722 - accuracy: 0.5290 - val_loss: 1.8356 - val_accuracy: 0.3676\n",
      "Epoch 9/120\n",
      "71/71 [==============================] - 26s 363ms/step - loss: 1.2782 - accuracy: 0.5641 - val_loss: 1.9691 - val_accuracy: 0.4049\n",
      "Epoch 10/120\n",
      "71/71 [==============================] - 25s 354ms/step - loss: 1.1978 - accuracy: 0.5990 - val_loss: 1.8336 - val_accuracy: 0.3940\n",
      "Epoch 11/120\n",
      "71/71 [==============================] - 25s 357ms/step - loss: 1.1364 - accuracy: 0.6192 - val_loss: 1.7926 - val_accuracy: 0.4134\n",
      "Epoch 12/120\n",
      "71/71 [==============================] - 25s 357ms/step - loss: 1.0777 - accuracy: 0.6333 - val_loss: 1.9322 - val_accuracy: 0.4037\n",
      "Epoch 13/120\n",
      "71/71 [==============================] - 26s 364ms/step - loss: 0.9986 - accuracy: 0.6637 - val_loss: 1.9267 - val_accuracy: 0.4146\n",
      "Epoch 14/120\n",
      "71/71 [==============================] - 26s 364ms/step - loss: 0.9667 - accuracy: 0.6770 - val_loss: 1.8695 - val_accuracy: 0.4231\n",
      "Epoch 15/120\n",
      "71/71 [==============================] - 25s 356ms/step - loss: 0.9285 - accuracy: 0.6844 - val_loss: 1.8947 - val_accuracy: 0.4035\n",
      "Epoch 16/120\n",
      "71/71 [==============================] - 26s 367ms/step - loss: 0.8947 - accuracy: 0.6966 - val_loss: 1.9615 - val_accuracy: 0.4271\n",
      "Epoch 17/120\n",
      "71/71 [==============================] - 25s 357ms/step - loss: 0.7891 - accuracy: 0.7284 - val_loss: 2.0292 - val_accuracy: 0.4330\n",
      "Epoch 18/120\n",
      "71/71 [==============================] - 26s 363ms/step - loss: 0.7520 - accuracy: 0.7477 - val_loss: 2.0581 - val_accuracy: 0.4170\n",
      "Epoch 19/120\n",
      "71/71 [==============================] - 27s 383ms/step - loss: 0.7562 - accuracy: 0.7411 - val_loss: 2.2244 - val_accuracy: 0.4052\n",
      "Epoch 20/120\n",
      "71/71 [==============================] - 25s 359ms/step - loss: 0.7330 - accuracy: 0.7539 - val_loss: 2.1604 - val_accuracy: 0.4274\n",
      "Epoch 21/120\n",
      "71/71 [==============================] - 27s 374ms/step - loss: 0.6645 - accuracy: 0.7802 - val_loss: 2.1770 - val_accuracy: 0.4264\n",
      "Epoch 22/120\n",
      "71/71 [==============================] - 26s 361ms/step - loss: 0.6516 - accuracy: 0.7775 - val_loss: 2.0879 - val_accuracy: 0.4165\n",
      "Epoch 23/120\n",
      "71/71 [==============================] - 25s 353ms/step - loss: 0.6199 - accuracy: 0.7906 - val_loss: 2.2575 - val_accuracy: 0.4177\n",
      "Epoch 24/120\n",
      "71/71 [==============================] - 26s 374ms/step - loss: 0.6002 - accuracy: 0.7942 - val_loss: 2.6230 - val_accuracy: 0.4160\n",
      "Epoch 25/120\n",
      "71/71 [==============================] - 26s 371ms/step - loss: 0.6388 - accuracy: 0.7793 - val_loss: 2.2524 - val_accuracy: 0.4359\n",
      "Epoch 26/120\n",
      "71/71 [==============================] - 27s 387ms/step - loss: 0.5463 - accuracy: 0.8131 - val_loss: 2.3728 - val_accuracy: 0.4359\n",
      "Epoch 27/120\n",
      "71/71 [==============================] - 26s 374ms/step - loss: 0.5257 - accuracy: 0.8208 - val_loss: 2.6006 - val_accuracy: 0.4403\n",
      "Epoch 28/120\n",
      "71/71 [==============================] - 27s 377ms/step - loss: 0.5209 - accuracy: 0.8202 - val_loss: 2.3897 - val_accuracy: 0.4463\n",
      "Epoch 29/120\n",
      "71/71 [==============================] - 27s 382ms/step - loss: 0.4979 - accuracy: 0.8342 - val_loss: 2.5068 - val_accuracy: 0.4363\n",
      "Epoch 30/120\n",
      "71/71 [==============================] - 27s 380ms/step - loss: 0.4475 - accuracy: 0.8480 - val_loss: 2.6226 - val_accuracy: 0.4186\n",
      "Epoch 31/120\n",
      "71/71 [==============================] - 26s 372ms/step - loss: 0.5151 - accuracy: 0.8289 - val_loss: 2.6603 - val_accuracy: 0.4125\n",
      "Epoch 32/120\n",
      "71/71 [==============================] - 25s 346ms/step - loss: 0.5523 - accuracy: 0.8124 - val_loss: 2.3088 - val_accuracy: 0.4292\n",
      "Epoch 33/120\n",
      "71/71 [==============================] - 24s 345ms/step - loss: 0.4340 - accuracy: 0.8497 - val_loss: 2.4350 - val_accuracy: 0.4127\n",
      "Epoch 34/120\n",
      "71/71 [==============================] - 25s 348ms/step - loss: 0.4365 - accuracy: 0.8500 - val_loss: 2.4582 - val_accuracy: 0.4236\n",
      "Epoch 35/120\n",
      "71/71 [==============================] - 25s 349ms/step - loss: 0.4053 - accuracy: 0.8646 - val_loss: 2.7671 - val_accuracy: 0.4165\n",
      "Epoch 36/120\n",
      "71/71 [==============================] - 24s 341ms/step - loss: 0.3739 - accuracy: 0.8751 - val_loss: 2.5722 - val_accuracy: 0.4174\n",
      "Epoch 37/120\n",
      "71/71 [==============================] - 27s 377ms/step - loss: 0.3779 - accuracy: 0.8744 - val_loss: 2.7281 - val_accuracy: 0.4318\n",
      "Epoch 38/120\n",
      "71/71 [==============================] - 26s 367ms/step - loss: 0.3593 - accuracy: 0.8831 - val_loss: 2.8317 - val_accuracy: 0.4196\n",
      "Epoch 39/120\n",
      "71/71 [==============================] - 26s 372ms/step - loss: 0.3356 - accuracy: 0.8900 - val_loss: 2.8866 - val_accuracy: 0.4103\n",
      "Epoch 40/120\n",
      "71/71 [==============================] - 27s 384ms/step - loss: 0.3549 - accuracy: 0.8769 - val_loss: 2.8320 - val_accuracy: 0.4238\n",
      "Epoch 41/120\n",
      "71/71 [==============================] - 25s 354ms/step - loss: 0.3045 - accuracy: 0.8962 - val_loss: 2.8573 - val_accuracy: 0.4186\n",
      "Epoch 42/120\n",
      "71/71 [==============================] - 30s 416ms/step - loss: 0.3300 - accuracy: 0.8933 - val_loss: 2.9977 - val_accuracy: 0.4111\n",
      "Epoch 43/120\n",
      "71/71 [==============================] - 27s 379ms/step - loss: 0.3416 - accuracy: 0.8875 - val_loss: 2.9499 - val_accuracy: 0.4224\n",
      "Epoch 44/120\n",
      "71/71 [==============================] - 27s 387ms/step - loss: 0.2735 - accuracy: 0.9029 - val_loss: 3.2400 - val_accuracy: 0.4191\n",
      "Epoch 45/120\n",
      "71/71 [==============================] - 27s 380ms/step - loss: 0.2694 - accuracy: 0.9055 - val_loss: 3.2484 - val_accuracy: 0.4155\n",
      "Epoch 46/120\n",
      "71/71 [==============================] - 28s 393ms/step - loss: 0.2967 - accuracy: 0.8973 - val_loss: 3.0269 - val_accuracy: 0.4200\n",
      "Epoch 47/120\n",
      "71/71 [==============================] - 25s 350ms/step - loss: 0.2502 - accuracy: 0.9151 - val_loss: 3.2531 - val_accuracy: 0.4203\n",
      "Epoch 48/120\n",
      "71/71 [==============================] - 25s 346ms/step - loss: 0.2275 - accuracy: 0.9235 - val_loss: 3.2728 - val_accuracy: 0.4137\n",
      "Epoch 49/120\n",
      "71/71 [==============================] - 25s 354ms/step - loss: 0.2646 - accuracy: 0.9084 - val_loss: 3.2319 - val_accuracy: 0.4219\n",
      "Epoch 50/120\n",
      "71/71 [==============================] - 31s 445ms/step - loss: 0.2319 - accuracy: 0.9200 - val_loss: 3.4141 - val_accuracy: 0.4238\n",
      "Epoch 51/120\n",
      "71/71 [==============================] - 27s 375ms/step - loss: 0.2100 - accuracy: 0.9295 - val_loss: 3.4817 - val_accuracy: 0.4134\n",
      "Epoch 52/120\n",
      "71/71 [==============================] - 26s 374ms/step - loss: 0.2233 - accuracy: 0.9240 - val_loss: 3.5101 - val_accuracy: 0.4170\n",
      "Epoch 53/120\n",
      "71/71 [==============================] - 29s 408ms/step - loss: 0.2168 - accuracy: 0.9260 - val_loss: 3.4770 - val_accuracy: 0.4085\n",
      "Epoch 54/120\n",
      "71/71 [==============================] - 28s 398ms/step - loss: 0.2356 - accuracy: 0.9244 - val_loss: 3.4454 - val_accuracy: 0.4295\n",
      "Epoch 55/120\n",
      "71/71 [==============================] - 26s 369ms/step - loss: 0.2349 - accuracy: 0.9204 - val_loss: 3.3771 - val_accuracy: 0.4165\n",
      "Epoch 56/120\n",
      "71/71 [==============================] - 28s 394ms/step - loss: 0.2139 - accuracy: 0.9322 - val_loss: 3.4403 - val_accuracy: 0.4137\n",
      "Epoch 57/120\n"
     ]
    },
    {
     "name": "stdout",
     "output_type": "stream",
     "text": [
      "71/71 [==============================] - 27s 378ms/step - loss: 0.2633 - accuracy: 0.9084 - val_loss: 3.4974 - val_accuracy: 0.4264\n",
      "Epoch 58/120\n",
      "71/71 [==============================] - 30s 416ms/step - loss: 0.2028 - accuracy: 0.9287 - val_loss: 3.7331 - val_accuracy: 0.4292\n",
      "Epoch 59/120\n",
      "71/71 [==============================] - 27s 376ms/step - loss: 0.1706 - accuracy: 0.9438 - val_loss: 3.8583 - val_accuracy: 0.4177\n",
      "Epoch 60/120\n",
      "71/71 [==============================] - 27s 388ms/step - loss: 0.1752 - accuracy: 0.9455 - val_loss: 3.6312 - val_accuracy: 0.4300\n",
      "Epoch 61/120\n",
      "71/71 [==============================] - 27s 388ms/step - loss: 0.1606 - accuracy: 0.9473 - val_loss: 3.7164 - val_accuracy: 0.4141\n",
      "Epoch 62/120\n",
      "71/71 [==============================] - 26s 375ms/step - loss: 0.1395 - accuracy: 0.9533 - val_loss: 3.6041 - val_accuracy: 0.4189\n",
      "Epoch 63/120\n",
      "71/71 [==============================] - 26s 371ms/step - loss: 0.1319 - accuracy: 0.9544 - val_loss: 3.7877 - val_accuracy: 0.4212\n",
      "Epoch 64/120\n",
      "71/71 [==============================] - 27s 379ms/step - loss: 0.1300 - accuracy: 0.9571 - val_loss: 3.7814 - val_accuracy: 0.4146\n",
      "Epoch 65/120\n",
      "71/71 [==============================] - 27s 377ms/step - loss: 0.1526 - accuracy: 0.9484 - val_loss: 4.0330 - val_accuracy: 0.4120\n",
      "Epoch 66/120\n",
      "71/71 [==============================] - 26s 374ms/step - loss: 0.1181 - accuracy: 0.9607 - val_loss: 3.9066 - val_accuracy: 0.4103\n",
      "Epoch 67/120\n",
      "71/71 [==============================] - 27s 375ms/step - loss: 0.1009 - accuracy: 0.9680 - val_loss: 4.2409 - val_accuracy: 0.4111\n",
      "Epoch 68/120\n",
      "71/71 [==============================] - 26s 364ms/step - loss: 0.1342 - accuracy: 0.9567 - val_loss: 4.3933 - val_accuracy: 0.4193\n",
      "Epoch 69/120\n",
      "71/71 [==============================] - 27s 377ms/step - loss: 0.1037 - accuracy: 0.9651 - val_loss: 4.1249 - val_accuracy: 0.4056\n",
      "Epoch 70/120\n",
      "71/71 [==============================] - 26s 362ms/step - loss: 0.1284 - accuracy: 0.9569 - val_loss: 3.9584 - val_accuracy: 0.4118\n",
      "Epoch 71/120\n",
      "71/71 [==============================] - 27s 377ms/step - loss: 0.1643 - accuracy: 0.9451 - val_loss: 4.1878 - val_accuracy: 0.4103\n",
      "Epoch 72/120\n",
      "71/71 [==============================] - 27s 379ms/step - loss: 0.0809 - accuracy: 0.9742 - val_loss: 4.6834 - val_accuracy: 0.4002\n",
      "Epoch 73/120\n",
      "71/71 [==============================] - 25s 353ms/step - loss: 0.1532 - accuracy: 0.9480 - val_loss: 4.2122 - val_accuracy: 0.3995\n",
      "Epoch 74/120\n",
      "71/71 [==============================] - 26s 361ms/step - loss: 0.1841 - accuracy: 0.9424 - val_loss: 3.8006 - val_accuracy: 0.4408\n",
      "Epoch 75/120\n",
      "71/71 [==============================] - 30s 428ms/step - loss: 0.1231 - accuracy: 0.9609 - val_loss: 4.0306 - val_accuracy: 0.4096\n",
      "Epoch 76/120\n",
      "71/71 [==============================] - 29s 403ms/step - loss: 0.1003 - accuracy: 0.9693 - val_loss: 4.5700 - val_accuracy: 0.4207\n",
      "Epoch 77/120\n",
      "71/71 [==============================] - 27s 386ms/step - loss: 0.0815 - accuracy: 0.9767 - val_loss: 4.2887 - val_accuracy: 0.4198\n",
      "Epoch 78/120\n",
      "71/71 [==============================] - 27s 389ms/step - loss: 0.1278 - accuracy: 0.9602 - val_loss: 4.1226 - val_accuracy: 0.4082\n",
      "Epoch 79/120\n",
      "71/71 [==============================] - 27s 385ms/step - loss: 0.1400 - accuracy: 0.9535 - val_loss: 3.9066 - val_accuracy: 0.4297\n",
      "Epoch 80/120\n",
      "71/71 [==============================] - 29s 409ms/step - loss: 0.0877 - accuracy: 0.9729 - val_loss: 4.4206 - val_accuracy: 0.4212\n",
      "Epoch 81/120\n",
      "71/71 [==============================] - 21s 302ms/step - loss: 0.1077 - accuracy: 0.9627 - val_loss: 4.2938 - val_accuracy: 0.3955\n",
      "Epoch 82/120\n",
      "71/71 [==============================] - 23s 328ms/step - loss: 0.1143 - accuracy: 0.9627 - val_loss: 3.8211 - val_accuracy: 0.4255\n",
      "Epoch 83/120\n",
      "71/71 [==============================] - 22s 311ms/step - loss: 0.0936 - accuracy: 0.9698 - val_loss: 4.7404 - val_accuracy: 0.4040\n",
      "Epoch 84/120\n",
      "71/71 [==============================] - 19s 267ms/step - loss: 0.0697 - accuracy: 0.9811 - val_loss: 4.6216 - val_accuracy: 0.4099\n",
      "Epoch 85/120\n",
      "71/71 [==============================] - 20s 278ms/step - loss: 0.0353 - accuracy: 0.9907 - val_loss: 5.1284 - val_accuracy: 0.4167\n",
      "Epoch 86/120\n",
      "71/71 [==============================] - 18s 251ms/step - loss: 0.0281 - accuracy: 0.9929 - val_loss: 5.1104 - val_accuracy: 0.4193\n",
      "Epoch 87/120\n",
      "71/71 [==============================] - 14s 203ms/step - loss: 0.0373 - accuracy: 0.9907 - val_loss: 4.9928 - val_accuracy: 0.4262\n",
      "Epoch 88/120\n",
      "71/71 [==============================] - 13s 189ms/step - loss: 0.1293 - accuracy: 0.9553 - val_loss: 5.0330 - val_accuracy: 0.4245\n",
      "Epoch 89/120\n",
      "71/71 [==============================] - 13s 188ms/step - loss: 0.1969 - accuracy: 0.9395 - val_loss: 4.0732 - val_accuracy: 0.4108\n",
      "Epoch 90/120\n",
      "71/71 [==============================] - 11s 156ms/step - loss: 0.0974 - accuracy: 0.9715 - val_loss: 4.3432 - val_accuracy: 0.4122\n",
      "Epoch 91/120\n",
      "71/71 [==============================] - 11s 153ms/step - loss: 0.0391 - accuracy: 0.9891 - val_loss: 4.8144 - val_accuracy: 0.4170\n",
      "Epoch 92/120\n",
      "71/71 [==============================] - 11s 156ms/step - loss: 0.0354 - accuracy: 0.9896 - val_loss: 4.8032 - val_accuracy: 0.4259\n",
      "Epoch 93/120\n",
      "71/71 [==============================] - 11s 157ms/step - loss: 0.0374 - accuracy: 0.9896 - val_loss: 5.0597 - val_accuracy: 0.4174\n",
      "Epoch 94/120\n",
      "71/71 [==============================] - 11s 151ms/step - loss: 0.0342 - accuracy: 0.9900 - val_loss: 4.8898 - val_accuracy: 0.4321\n",
      "Epoch 95/120\n",
      "71/71 [==============================] - 11s 156ms/step - loss: 0.0529 - accuracy: 0.9849 - val_loss: 4.8218 - val_accuracy: 0.4255\n",
      "Epoch 96/120\n",
      "71/71 [==============================] - 11s 160ms/step - loss: 0.1486 - accuracy: 0.9564 - val_loss: 4.3979 - val_accuracy: 0.4340\n",
      "Epoch 97/120\n",
      "71/71 [==============================] - 11s 149ms/step - loss: 0.1592 - accuracy: 0.9569 - val_loss: 4.5961 - val_accuracy: 0.4264\n",
      "Epoch 98/120\n",
      "71/71 [==============================] - 11s 157ms/step - loss: 0.0768 - accuracy: 0.9744 - val_loss: 4.0674 - val_accuracy: 0.4184\n",
      "Epoch 99/120\n",
      "71/71 [==============================] - 13s 184ms/step - loss: 0.0385 - accuracy: 0.9896 - val_loss: 4.4227 - val_accuracy: 0.4226\n",
      "Epoch 100/120\n",
      "71/71 [==============================] - 12s 176ms/step - loss: 0.0203 - accuracy: 0.9964 - val_loss: 4.7450 - val_accuracy: 0.4283\n",
      "Epoch 101/120\n",
      "71/71 [==============================] - 11s 154ms/step - loss: 0.0399 - accuracy: 0.9880 - val_loss: 4.7474 - val_accuracy: 0.4125\n",
      "Epoch 102/120\n",
      "71/71 [==============================] - 11s 155ms/step - loss: 0.0316 - accuracy: 0.9909 - val_loss: 5.0866 - val_accuracy: 0.4250\n",
      "Epoch 103/120\n",
      "71/71 [==============================] - 12s 163ms/step - loss: 0.0425 - accuracy: 0.9873 - val_loss: 4.8822 - val_accuracy: 0.4259\n",
      "Epoch 104/120\n",
      "71/71 [==============================] - 11s 150ms/step - loss: 0.0411 - accuracy: 0.9878 - val_loss: 4.9673 - val_accuracy: 0.4281\n",
      "Epoch 105/120\n",
      "71/71 [==============================] - 11s 161ms/step - loss: 0.0359 - accuracy: 0.9891 - val_loss: 4.9135 - val_accuracy: 0.4337\n",
      "Epoch 106/120\n",
      "71/71 [==============================] - 12s 169ms/step - loss: 0.0641 - accuracy: 0.9802 - val_loss: 4.7737 - val_accuracy: 0.4316\n",
      "Epoch 107/120\n",
      "71/71 [==============================] - 14s 195ms/step - loss: 0.0357 - accuracy: 0.9889 - val_loss: 4.9843 - val_accuracy: 0.4233\n",
      "Epoch 108/120\n",
      "71/71 [==============================] - 12s 161ms/step - loss: 0.0387 - accuracy: 0.9896 - val_loss: 5.0116 - val_accuracy: 0.4099\n",
      "Epoch 109/120\n",
      "71/71 [==============================] - 12s 169ms/step - loss: 0.0311 - accuracy: 0.9902 - val_loss: 5.2633 - val_accuracy: 0.4283\n",
      "Epoch 110/120\n",
      "71/71 [==============================] - 12s 166ms/step - loss: 0.0657 - accuracy: 0.9807 - val_loss: 4.5691 - val_accuracy: 0.4096\n",
      "Epoch 111/120\n",
      "71/71 [==============================] - 11s 159ms/step - loss: 0.1405 - accuracy: 0.9504 - val_loss: 4.0573 - val_accuracy: 0.4245\n",
      "Epoch 112/120\n",
      "71/71 [==============================] - 11s 160ms/step - loss: 0.0642 - accuracy: 0.9776 - val_loss: 4.7482 - val_accuracy: 0.4330\n",
      "Epoch 113/120\n"
     ]
    },
    {
     "name": "stdout",
     "output_type": "stream",
     "text": [
      "71/71 [==============================] - 12s 165ms/step - loss: 0.0314 - accuracy: 0.9913 - val_loss: 5.2009 - val_accuracy: 0.4349\n",
      "Epoch 114/120\n",
      "71/71 [==============================] - 12s 163ms/step - loss: 0.0336 - accuracy: 0.9907 - val_loss: 5.2490 - val_accuracy: 0.4177\n",
      "Epoch 115/120\n",
      "71/71 [==============================] - 11s 161ms/step - loss: 0.0293 - accuracy: 0.9920 - val_loss: 5.3247 - val_accuracy: 0.4245\n",
      "Epoch 116/120\n",
      "71/71 [==============================] - 12s 166ms/step - loss: 0.1525 - accuracy: 0.9509 - val_loss: 4.1016 - val_accuracy: 0.4349\n",
      "Epoch 117/120\n",
      "71/71 [==============================] - 11s 155ms/step - loss: 0.0618 - accuracy: 0.9800 - val_loss: 4.6720 - val_accuracy: 0.4316\n",
      "Epoch 118/120\n",
      "71/71 [==============================] - 10s 145ms/step - loss: 0.0576 - accuracy: 0.9804 - val_loss: 4.8254 - val_accuracy: 0.4174\n",
      "Epoch 119/120\n",
      "71/71 [==============================] - 10s 137ms/step - loss: 0.0340 - accuracy: 0.9902 - val_loss: 4.9684 - val_accuracy: 0.4222\n",
      "Epoch 120/120\n",
      "71/71 [==============================] - 8s 110ms/step - loss: 0.0191 - accuracy: 0.9964 - val_loss: 5.3668 - val_accuracy: 0.4158\n"
     ]
    }
   ],
   "source": [
    "print(\"Train...\")\n",
    "model_mfcc=model.fit(X_train, y_train, batch_size=64, epochs=120, validation_data=(X_test, y_test))"
   ]
  },
  {
   "cell_type": "code",
   "execution_count": 10,
   "id": "46aa5bc6",
   "metadata": {},
   "outputs": [
    {
     "name": "stdout",
     "output_type": "stream",
     "text": [
      "Model: \"sequential\"\n",
      "_________________________________________________________________\n",
      "Layer (type)                 Output Shape              Param #   \n",
      "=================================================================\n",
      "lstm (LSTM)                  (None, 40, 128)           66560     \n",
      "_________________________________________________________________\n",
      "lstm_1 (LSTM)                (None, 64)                49408     \n",
      "_________________________________________________________________\n",
      "dense (Dense)                (None, 32)                2080      \n",
      "_________________________________________________________________\n",
      "dense_1 (Dense)              (None, 10)                330       \n",
      "=================================================================\n",
      "Total params: 118,378\n",
      "Trainable params: 118,378\n",
      "Non-trainable params: 0\n",
      "_________________________________________________________________\n",
      "133/133 [==============================] - 5s 21ms/step - loss: 5.3668 - accuracy: 0.4158\n",
      "Pre-training accuracy: 41.5781%\n"
     ]
    }
   ],
   "source": [
    "# Compile the model\n",
    "model.compile(loss='categorical_crossentropy', metrics=['accuracy'], optimizer='adam')\n",
    "\n",
    "# Display model architecture summary \n",
    "model.summary()\n",
    "\n",
    "# Calculate pre-training accuracy \n",
    "score = model.evaluate(X_test, y_test, verbose=1)\n",
    "accuracy = 100*score[1]\n",
    "\n",
    "print(\"Pre-training accuracy: %.4f%%\" % accuracy) "
   ]
  },
  {
   "cell_type": "code",
   "execution_count": 11,
   "id": "b3cc986e",
   "metadata": {},
   "outputs": [
    {
     "name": "stdout",
     "output_type": "stream",
     "text": [
      "Training Accuracy:  0.9868859648704529\n",
      "Testing Accuracy:  0.41578078269958496\n"
     ]
    }
   ],
   "source": [
    "score = model.evaluate(X_train, y_train, verbose=0)\n",
    "print(\"Training Accuracy: \", score[1])\n",
    "\n",
    "score = model.evaluate(X_test, y_test, verbose=0)\n",
    "print(\"Testing Accuracy: \", score[1])"
   ]
  },
  {
   "cell_type": "code",
   "execution_count": 12,
   "id": "14295248",
   "metadata": {},
   "outputs": [
    {
     "name": "stdout",
     "output_type": "stream",
     "text": [
      "0.41578078269958496\n"
     ]
    }
   ],
   "source": [
    "test_accuracy=model.evaluate(X_test,y_test,verbose=0)\n",
    "print(test_accuracy[1])"
   ]
  },
  {
   "cell_type": "code",
   "execution_count": 13,
   "id": "9a5d6fd0",
   "metadata": {},
   "outputs": [
    {
     "name": "stdout",
     "output_type": "stream",
     "text": [
      "[8 8 8 ... 9 2 1]\n"
     ]
    }
   ],
   "source": [
    "#model.predict_classes(X_test)\n",
    "predict_x=model.predict(X_test) \n",
    "classes_x=np.argmax(predict_x,axis=1)\n",
    "print(classes_x)"
   ]
  },
  {
   "cell_type": "code",
   "execution_count": 14,
   "id": "a24b0af1",
   "metadata": {},
   "outputs": [
    {
     "data": {
      "image/png": "[encoded data removed]",
      "text/plain": [
       "<Figure size 432x288 with 1 Axes>"
      ]
     },
     "metadata": {
      "needs_background": "light"
     },
     "output_type": "display_data"
    },
    {
     "data": {
      "image/png": "[encoded data removed]",
      "text/plain": [
       "<Figure size 432x288 with 1 Axes>"
      ]
     },
     "metadata": {
      "needs_background": "light"
     },
     "output_type": "display_data"
    }
   ],
   "source": [
    "# summarize history for accuracy\n",
    "plt.plot(model_mfcc.history['accuracy'])\n",
    "plt.plot(model_mfcc.history['val_accuracy'])\n",
    "plt.title('model accuracy')\n",
    "plt.ylabel('accuracy')\n",
    "plt.xlabel('epoch')\n",
    "plt.legend(['train', 'test'], loc='upper left')\n",
    "plt.show()\n",
    "# summarize history for loss\n",
    "plt.plot(model_mfcc.history['loss'])\n",
    "plt.plot(model_mfcc.history['val_loss'])\n",
    "plt.title('model loss')\n",
    "plt.ylabel('loss')\n",
    "plt.xlabel('epoch')\n",
    "plt.legend(['train', 'test'], loc='upper left')\n",
    "plt.show()"
   ]
  },
  {
   "cell_type": "code",
   "execution_count": 15,
   "id": "508cac72",
   "metadata": {},
   "outputs": [],
   "source": [
    "#Avg Test accuracy and Standart Devision "
   ]
  },
  {
   "cell_type": "code",
   "execution_count": 16,
   "id": "537e0922",
   "metadata": {
    "scrolled": true
   },
   "outputs": [
    {
     "data": {
      "text/html": [
       "<div>\n",
       "<style scoped>\n",
       "    .dataframe tbody tr th:only-of-type {\n",
       "        vertical-align: middle;\n",
       "    }\n",
       "\n",
       "    .dataframe tbody tr th {\n",
       "        vertical-align: top;\n",
       "    }\n",
       "\n",
       "    .dataframe thead th {\n",
       "        text-align: right;\n",
       "    }\n",
       "</style>\n",
       "<table border=\"1\" class=\"dataframe\">\n",
       "  <thead>\n",
       "    <tr style=\"text-align: right;\">\n",
       "      <th></th>\n",
       "      <th>loss</th>\n",
       "      <th>accuracy</th>\n",
       "      <th>val_loss</th>\n",
       "      <th>val_accuracy</th>\n",
       "    </tr>\n",
       "  </thead>\n",
       "  <tbody>\n",
       "    <tr>\n",
       "      <th>0</th>\n",
       "      <td>2.202811</td>\n",
       "      <td>0.178484</td>\n",
       "      <td>2.183433</td>\n",
       "      <td>0.177888</td>\n",
       "    </tr>\n",
       "    <tr>\n",
       "      <th>1</th>\n",
       "      <td>2.075008</td>\n",
       "      <td>0.227162</td>\n",
       "      <td>2.102201</td>\n",
       "      <td>0.222065</td>\n",
       "    </tr>\n",
       "    <tr>\n",
       "      <th>2</th>\n",
       "      <td>1.989537</td>\n",
       "      <td>0.273394</td>\n",
       "      <td>2.041492</td>\n",
       "      <td>0.284432</td>\n",
       "    </tr>\n",
       "    <tr>\n",
       "      <th>3</th>\n",
       "      <td>1.876765</td>\n",
       "      <td>0.316293</td>\n",
       "      <td>1.994313</td>\n",
       "      <td>0.264824</td>\n",
       "    </tr>\n",
       "    <tr>\n",
       "      <th>4</th>\n",
       "      <td>1.768376</td>\n",
       "      <td>0.363192</td>\n",
       "      <td>1.907278</td>\n",
       "      <td>0.350106</td>\n",
       "    </tr>\n",
       "    <tr>\n",
       "      <th>...</th>\n",
       "      <td>...</td>\n",
       "      <td>...</td>\n",
       "      <td>...</td>\n",
       "      <td>...</td>\n",
       "    </tr>\n",
       "    <tr>\n",
       "      <th>115</th>\n",
       "      <td>0.152459</td>\n",
       "      <td>0.950878</td>\n",
       "      <td>4.101604</td>\n",
       "      <td>0.434916</td>\n",
       "    </tr>\n",
       "    <tr>\n",
       "      <th>116</th>\n",
       "      <td>0.061826</td>\n",
       "      <td>0.979996</td>\n",
       "      <td>4.671988</td>\n",
       "      <td>0.431609</td>\n",
       "    </tr>\n",
       "    <tr>\n",
       "      <th>117</th>\n",
       "      <td>0.057615</td>\n",
       "      <td>0.980440</td>\n",
       "      <td>4.825429</td>\n",
       "      <td>0.417434</td>\n",
       "    </tr>\n",
       "    <tr>\n",
       "      <th>118</th>\n",
       "      <td>0.033980</td>\n",
       "      <td>0.990220</td>\n",
       "      <td>4.968353</td>\n",
       "      <td>0.422159</td>\n",
       "    </tr>\n",
       "    <tr>\n",
       "      <th>119</th>\n",
       "      <td>0.019076</td>\n",
       "      <td>0.996444</td>\n",
       "      <td>5.366788</td>\n",
       "      <td>0.415781</td>\n",
       "    </tr>\n",
       "  </tbody>\n",
       "</table>\n",
       "<p>120 rows × 4 columns</p>\n",
       "</div>"
      ],
      "text/plain": [
       "         loss  accuracy  val_loss  val_accuracy\n",
       "0    2.202811  0.178484  2.183433      0.177888\n",
       "1    2.075008  0.227162  2.102201      0.222065\n",
       "2    1.989537  0.273394  2.041492      0.284432\n",
       "3    1.876765  0.316293  1.994313      0.264824\n",
       "4    1.768376  0.363192  1.907278      0.350106\n",
       "..        ...       ...       ...           ...\n",
       "115  0.152459  0.950878  4.101604      0.434916\n",
       "116  0.061826  0.979996  4.671988      0.431609\n",
       "117  0.057615  0.980440  4.825429      0.417434\n",
       "118  0.033980  0.990220  4.968353      0.422159\n",
       "119  0.019076  0.996444  5.366788      0.415781\n",
       "\n",
       "[120 rows x 4 columns]"
      ]
     },
     "execution_count": 16,
     "metadata": {},
     "output_type": "execute_result"
    }
   ],
   "source": [
    "train_hist = pd.DataFrame(model_mfcc.history)\n",
    "train_hist"
   ]
  },
  {
   "cell_type": "code",
   "execution_count": 17,
   "id": "6bb190bd",
   "metadata": {},
   "outputs": [
    {
     "name": "stdout",
     "output_type": "stream",
     "text": [
      "count    120.000000\n",
      "mean       0.411838\n",
      "std        0.036266\n",
      "min        0.177888\n",
      "25%        0.411588\n",
      "50%        0.418498\n",
      "75%        0.425998\n",
      "max        0.446256\n",
      "Name: val_accuracy, dtype: float64\n"
     ]
    }
   ],
   "source": [
    "print(train_hist[\"val_accuracy\"].describe())"
   ]
  },
  {
   "cell_type": "code",
   "execution_count": null,
   "id": "14b2aa42",
   "metadata": {},
   "outputs": [],
   "source": []
  },
  {
   "cell_type": "code",
   "execution_count": 18,
   "id": "5b6534ec",
   "metadata": {},
   "outputs": [
    {
     "data": {
      "image/png": "[encoded data removed]",
      "text/plain": [
       "<Figure size 1440x576 with 1 Axes>"
      ]
     },
     "metadata": {
      "needs_background": "light"
     },
     "output_type": "display_data"
    },
    {
     "data": {
      "image/png": "[encoded data removed]",
      "text/plain": [
       "<Figure size 1440x576 with 1 Axes>"
      ]
     },
     "metadata": {
      "needs_background": "light"
     },
     "output_type": "display_data"
    }
   ],
   "source": [
    "plt.figure(figsize=(20,8))\n",
    "plt.plot(train_hist[['loss','val_loss']])\n",
    "plt.legend(['Loss','Test Loss'])\n",
    "plt.title('Model Loss')\n",
    "plt.xlabel('Epochs')\n",
    "plt.ylabel('Loss')\n",
    "plt.show()\n",
    "\n",
    "plt.figure(figsize=(20,8))\n",
    "plt.plot(train_hist[['accuracy','val_accuracy']])\n",
    "plt.legend(['Train Accuracy','Test Accuracy'])\n",
    "plt.title('Model Accuracy')\n",
    "plt.xlabel('Epochs')\n",
    "plt.ylabel('Accuracy')\n",
    "plt.show()"
   ]
  },
  {
   "cell_type": "code",
   "execution_count": 19,
   "id": "44ccc20e",
   "metadata": {},
   "outputs": [
    {
     "name": "stdout",
     "output_type": "stream",
     "text": [
      "\n",
      "Confusion Matrix :\n",
      "\n",
      "\n",
      "[[ 70   3 100  27  32  26  15 105  16 106]\n",
      " [  4 145   5   9   8   2   1  17   1  29]\n",
      " [ 11   2 191 149  27  13  28   3  37  39]\n",
      " [  5   4  83 287  23   7  11   6  40  34]\n",
      " [  4  12  57  33 152  18   2 113   9 100]\n",
      " [ 70   4  54  35   4 220   2  10  41  43]\n",
      " [  2   0  29  26   2   2 110   0   8   5]\n",
      " [ 11  43  11   3 200   9   2 116   6  51]\n",
      " [ 12   1  28 106  13   2   7   2 201  21]\n",
      " [ 31   7  56  34  54   7   4  16  23 268]]\n",
      "\n",
      "\n",
      "Classification Report : \n",
      "\n",
      "               precision    recall  f1-score   support\n",
      "\n",
      "           0       0.32      0.14      0.19       500\n",
      "           1       0.66      0.66      0.66       221\n",
      "           2       0.31      0.38      0.34       500\n",
      "           3       0.40      0.57      0.47       500\n",
      "           4       0.30      0.30      0.30       500\n",
      "           5       0.72      0.46      0.56       483\n",
      "           6       0.60      0.60      0.60       184\n",
      "           7       0.30      0.26      0.28       452\n",
      "           8       0.53      0.51      0.52       393\n",
      "           9       0.39      0.54      0.45       500\n",
      "\n",
      "    accuracy                           0.42      4233\n",
      "   macro avg       0.45      0.44      0.44      4233\n",
      "weighted avg       0.43      0.42      0.41      4233\n",
      "\n"
     ]
    }
   ],
   "source": [
    "ytrue = np.argmax(y_test,axis=1)\n",
    "ypred = np.argmax(model.predict(X_test),axis=1)\n",
    "print('\\nConfusion Matrix :\\n\\n')\n",
    "print(confusion_matrix(ytrue,ypred))\n",
    "print('\\n\\nClassification Report : \\n\\n',classification_report(ytrue,ypred))"
   ]
  },
  {
   "cell_type": "code",
   "execution_count": null,
   "id": "6f63c192",
   "metadata": {},
   "outputs": [],
   "source": []
  }
 ],
 "metadata": {
  "kernelspec": {
   "display_name": "Python 3 (ipykernel)",
   "language": "python",
   "name": "python3"
  },
  "language_info": {
   "codemirror_mode": {
    "name": "ipython",
    "version": 3
   },
   "file_extension": ".py",
   "mimetype": "text/x-python",
   "name": "python",
   "nbconvert_exporter": "python",
   "pygments_lexer": "ipython3",
   "version": "3.9.12"
  }
 },
 "nbformat": 4,
 "nbformat_minor": 5
}
