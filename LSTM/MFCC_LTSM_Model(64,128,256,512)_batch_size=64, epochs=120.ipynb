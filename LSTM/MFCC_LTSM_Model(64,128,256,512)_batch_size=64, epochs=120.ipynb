{
 "cells": [
  {
   "cell_type": "code",
   "execution_count": 1,
   "id": "9cd9920e",
   "metadata": {},
   "outputs": [
    {
     "name": "stdout",
     "output_type": "stream",
     "text": [
      "TensorFlow version: 2.6.0\n"
     ]
    }
   ],
   "source": [
    "import tensorflow as tf\n",
    "print(\"TensorFlow version:\", tf.__version__)\n",
    "\n",
    "\n",
    "import wave"
   ]
  },
  {
   "cell_type": "code",
   "execution_count": 2,
   "id": "2c6cc264",
   "metadata": {},
   "outputs": [],
   "source": [
    "import librosa\n",
    "import pandas as pd\n",
    "import os\n",
    "import numpy as np\n",
    "from tqdm import tqdm\n",
    "\n",
    "from sklearn.model_selection import train_test_split \n",
    "from sklearn.preprocessing import LabelEncoder\n",
    "\n",
    "import tensorflow as tf\n",
    "from tensorflow.keras.utils import to_categorical\n",
    "from tensorflow.keras.models import Sequential\n",
    "from tensorflow.keras.layers import Dense , Activation , Dropout\n",
    "\n",
    "import IPython.display as ip"
   ]
  },
  {
   "cell_type": "code",
   "execution_count": 3,
   "id": "e77a6843",
   "metadata": {},
   "outputs": [],
   "source": [
    "#importing  libraries\n",
    "#Keras\n",
    "import tensorflow.keras\n",
    "from tensorflow.keras import regularizers, layers\n",
    "from tensorflow.keras.preprocessing import sequence\n",
    "from tensorflow.keras.preprocessing.text import Tokenizer\n",
    "from tensorflow.keras.preprocessing.sequence import pad_sequences\n",
    "from tensorflow.keras.models import Sequential, Model, model_from_json\n",
    "from tensorflow.keras.layers import Dense, Embedding, LSTM\n",
    "from tensorflow.keras.layers import Input, Flatten, Dropout, Activation, BatchNormalization\n",
    "from tensorflow.keras.layers import Conv2D, MaxPooling2D, AveragePooling1D\n",
    "from tensorflow.keras.utils import to_categorical\n",
    "from tensorflow.keras.callbacks import ModelCheckpoint\n",
    "\n",
    "#sklearn\n",
    "from sklearn.metrics import confusion_matrix, accuracy_score, classification_report\n",
    "from sklearn.model_selection import train_test_split\n",
    "from sklearn.preprocessing import LabelEncoder\n",
    "\n",
    "#Others\n",
    "import librosa\n",
    "import librosa.display\n",
    "import json\n",
    "import numpy as np\n",
    "import matplotlib.pyplot as plt\n",
    "from matplotlib.pyplot import specgram\n",
    "import tensorflow as tf\n",
    "import pandas as pd\n",
    "import seaborn as sns\n",
    "import glob\n",
    "import os\n",
    "import pickle\n",
    "import IPython.display as ipd\n",
    "import csv\n",
    "from tqdm import tqdm\n",
    "import os\n",
    "\n",
    "\n",
    "import sys\n",
    "import os\n",
    "import IPython\n",
    "import math\n",
    "import numpy as np\n",
    "import pandas as pd\n",
    "import pickle\n",
    "import matplotlib.pyplot as plt\n",
    "%matplotlib inline\n",
    "\n",
    "import random\n",
    "from datetime import datetime\n",
    "#from include import helpers\n",
    "\n",
    "from tensorflow.keras import backend as keras_backend\n",
    "from tensorflow.keras.models import Sequential, load_model\n",
    "from tensorflow.keras.layers import Dense, SpatialDropout2D, Activation, Conv2D, MaxPooling2D, BatchNormalization, GlobalAveragePooling2D, LeakyReLU\n",
    "from tensorflow.keras.optimizers import Adam\n",
    "from tensorflow.keras.utils import to_categorical\n",
    "from tensorflow.keras.callbacks import ModelCheckpoint \n",
    "from tensorflow.keras.regularizers import l2\n",
    "\n",
    "from sklearn.preprocessing import LabelEncoder\n",
    "from sklearn.metrics import classification_report, confusion_matrix"
   ]
  },
  {
   "cell_type": "code",
   "execution_count": 4,
   "id": "e776a9f9",
   "metadata": {},
   "outputs": [
    {
     "data": {
      "text/plain": [
       "((4499, 40), (4499, 1), (4233, 41), (4233, 2))"
      ]
     },
     "execution_count": 4,
     "metadata": {},
     "output_type": "execute_result"
    }
   ],
   "source": [
    "#split the dataset into train and test\n",
    "X_train = pd.read_csv('https://raw.githubusercontent.com/fatmaaerr/ML_Urbansound8k_project/main/Data/X_train_mfcc.csv')\n",
    "y_train = pd.read_csv('https://raw.githubusercontent.com/fatmaaerr/ML_Urbansound8k_project/main/Data/y_train_mfcc.csv')\n",
    "X_test = pd.read_csv('https://raw.githubusercontent.com/fatmaaerr/ML_Urbansound8k_project/main/Data/X_test_mfcc.csv')\n",
    "y_test = pd.read_csv('https://raw.githubusercontent.com/fatmaaerr/ML_Urbansound8k_project/main/Data/y_test_mfcc.csv')\n",
    "#take a peak at the data\n",
    "X_train.shape, y_train.shape, X_test.shape, y_test.shape"
   ]
  },
  {
   "cell_type": "code",
   "execution_count": 5,
   "id": "b340f9b0",
   "metadata": {},
   "outputs": [],
   "source": [
    "#One hot encode labels\n",
    "\n",
    "le = LabelEncoder()\n",
    "\n",
    "def encoding_y(data):\n",
    "  data = np.array(data['label'])\n",
    "  data = to_categorical(le.fit_transform(data))\n",
    "  return data\n",
    "\n",
    "y_train = encoding_y(y_train)\n",
    "y_test = encoding_y(y_test)"
   ]
  },
  {
   "cell_type": "code",
   "execution_count": 6,
   "id": "713a83ee",
   "metadata": {},
   "outputs": [],
   "source": [
    "X_test = X_test.iloc[:,1:41]\n",
    "\n",
    "def standardization(data):\n",
    "  mean = np.mean(data,axis=0)\n",
    "  std = np.std(data, axis=0)\n",
    "  data =( data - mean)/std\n",
    "  data = np.array(data)\n",
    "  data=np.reshape(data,(data.shape[0], 40, 1))\n",
    "  return data\n",
    "\n",
    "X_train = standardization(X_train)\n",
    "X_test = standardization(X_test)"
   ]
  },
  {
   "cell_type": "code",
   "execution_count": 7,
   "id": "7d726eb7",
   "metadata": {},
   "outputs": [],
   "source": [
    "model = tf.keras.Sequential(\n",
    "    [\n",
    "     tf.keras.layers.LSTM(\n",
    "         units=64,activation='relu',\n",
    "         return_sequences=True,\n",
    "         input_shape=(40,1)\n",
    "     ),\n",
    "     tf.keras.layers.LSTM(\n",
    "         units=128,activation='relu'\n",
    "     ),\n",
    "     tf.keras.layers.Dense(\n",
    "         units=256,\n",
    "         activation='relu'\n",
    "     ),\n",
    "     tf.keras.layers.Dense(\n",
    "         units=512,\n",
    "         activation='relu'\n",
    "     ),\n",
    "\n",
    "\n",
    "     tf.keras.layers.Dense(\n",
    "         units=10,\n",
    "         activation='softmax'\n",
    "     )\n",
    "\n",
    "    ]\n",
    ")"
   ]
  },
  {
   "cell_type": "code",
   "execution_count": 8,
   "id": "6040c6b3",
   "metadata": {},
   "outputs": [
    {
     "name": "stdout",
     "output_type": "stream",
     "text": [
      "Model: \"sequential\"\n",
      "_________________________________________________________________\n",
      "Layer (type)                 Output Shape              Param #   \n",
      "=================================================================\n",
      "lstm (LSTM)                  (None, 40, 64)            16896     \n",
      "_________________________________________________________________\n",
      "lstm_1 (LSTM)                (None, 128)               98816     \n",
      "_________________________________________________________________\n",
      "dense (Dense)                (None, 256)               33024     \n",
      "_________________________________________________________________\n",
      "dense_1 (Dense)              (None, 512)               131584    \n",
      "_________________________________________________________________\n",
      "dense_2 (Dense)              (None, 10)                5130      \n",
      "=================================================================\n",
      "Total params: 285,450\n",
      "Trainable params: 285,450\n",
      "Non-trainable params: 0\n",
      "_________________________________________________________________\n"
     ]
    }
   ],
   "source": [
    "model.compile(loss='categorical_crossentropy', optimizer='adam', metrics=[\"accuracy\"])\n",
    "model.summary()"
   ]
  },
  {
   "cell_type": "code",
   "execution_count": 9,
   "id": "48f43d46",
   "metadata": {},
   "outputs": [
    {
     "name": "stdout",
     "output_type": "stream",
     "text": [
      "Train...\n",
      "Epoch 1/120\n",
      "71/71 [==============================] - 51s 608ms/step - loss: 2.1524 - accuracy: 0.1738 - val_loss: 2.1083 - val_accuracy: 0.2188\n",
      "Epoch 2/120\n",
      "71/71 [==============================] - 42s 596ms/step - loss: 2.0076 - accuracy: 0.2467 - val_loss: 2.0661 - val_accuracy: 0.2412\n",
      "Epoch 3/120\n",
      "71/71 [==============================] - 52s 734ms/step - loss: 1.9582 - accuracy: 0.2565 - val_loss: 2.1025 - val_accuracy: 0.2242\n",
      "Epoch 4/120\n",
      "71/71 [==============================] - 51s 721ms/step - loss: 1.9036 - accuracy: 0.2850 - val_loss: 2.0955 - val_accuracy: 0.2369\n",
      "Epoch 5/120\n",
      "71/71 [==============================] - 45s 636ms/step - loss: 1.8682 - accuracy: 0.3107 - val_loss: 2.0032 - val_accuracy: 0.2922\n",
      "Epoch 6/120\n",
      "71/71 [==============================] - 38s 535ms/step - loss: 1.7540 - accuracy: 0.3559 - val_loss: 2.0494 - val_accuracy: 0.2778\n",
      "Epoch 7/120\n",
      "71/71 [==============================] - 29s 403ms/step - loss: 1.7619 - accuracy: 0.3570 - val_loss: 2.0368 - val_accuracy: 0.2951\n",
      "Epoch 8/120\n",
      "71/71 [==============================] - 26s 361ms/step - loss: 1.6561 - accuracy: 0.4034 - val_loss: 2.0291 - val_accuracy: 0.3088\n",
      "Epoch 9/120\n",
      "71/71 [==============================] - 25s 349ms/step - loss: 1.5299 - accuracy: 0.4599 - val_loss: 1.9814 - val_accuracy: 0.3140\n",
      "Epoch 10/120\n",
      "71/71 [==============================] - 25s 355ms/step - loss: 1.4339 - accuracy: 0.4919 - val_loss: 1.9179 - val_accuracy: 0.3180\n",
      "Epoch 11/120\n",
      "71/71 [==============================] - 25s 353ms/step - loss: 1.3357 - accuracy: 0.5359 - val_loss: 1.8025 - val_accuracy: 0.3648\n",
      "Epoch 12/120\n",
      "71/71 [==============================] - 24s 345ms/step - loss: 1.2072 - accuracy: 0.5728 - val_loss: 2.0762 - val_accuracy: 0.3718\n",
      "Epoch 13/120\n",
      "71/71 [==============================] - 25s 357ms/step - loss: 1.2352 - accuracy: 0.5692 - val_loss: 1.8788 - val_accuracy: 0.3768\n",
      "Epoch 14/120\n",
      "71/71 [==============================] - 25s 353ms/step - loss: 1.1188 - accuracy: 0.6197 - val_loss: 1.9517 - val_accuracy: 0.4096\n",
      "Epoch 15/120\n",
      "71/71 [==============================] - 25s 358ms/step - loss: 1.0651 - accuracy: 0.6281 - val_loss: 1.9300 - val_accuracy: 0.4007\n",
      "Epoch 16/120\n",
      "71/71 [==============================] - 25s 351ms/step - loss: 1.0481 - accuracy: 0.6333 - val_loss: 2.2370 - val_accuracy: 0.3988\n",
      "Epoch 17/120\n",
      "71/71 [==============================] - 25s 357ms/step - loss: 0.9717 - accuracy: 0.6601 - val_loss: 2.0688 - val_accuracy: 0.3969\n",
      "Epoch 18/120\n",
      "71/71 [==============================] - 25s 351ms/step - loss: 0.9285 - accuracy: 0.6744 - val_loss: 2.6346 - val_accuracy: 0.4016\n",
      "Epoch 19/120\n",
      "71/71 [==============================] - 25s 358ms/step - loss: 0.8631 - accuracy: 0.6966 - val_loss: 2.0384 - val_accuracy: 0.4056\n",
      "Epoch 20/120\n",
      "71/71 [==============================] - 26s 367ms/step - loss: 0.8553 - accuracy: 0.7042 - val_loss: 2.1774 - val_accuracy: 0.4085\n",
      "Epoch 21/120\n",
      "71/71 [==============================] - 26s 361ms/step - loss: 0.8541 - accuracy: 0.6999 - val_loss: 3.7753 - val_accuracy: 0.4092\n",
      "Epoch 22/120\n",
      "71/71 [==============================] - 26s 361ms/step - loss: 0.7899 - accuracy: 0.7242 - val_loss: 2.9562 - val_accuracy: 0.4207\n",
      "Epoch 23/120\n",
      "71/71 [==============================] - 25s 352ms/step - loss: 0.7802 - accuracy: 0.7288 - val_loss: 2.3014 - val_accuracy: 0.3858\n",
      "Epoch 24/120\n",
      "71/71 [==============================] - 26s 362ms/step - loss: 0.7255 - accuracy: 0.7384 - val_loss: 2.4547 - val_accuracy: 0.3754\n",
      "Epoch 25/120\n",
      "71/71 [==============================] - 25s 354ms/step - loss: 0.7052 - accuracy: 0.7475 - val_loss: 2.4376 - val_accuracy: 0.3853\n",
      "Epoch 26/120\n",
      "71/71 [==============================] - 26s 370ms/step - loss: 0.6571 - accuracy: 0.7691 - val_loss: 2.5445 - val_accuracy: 0.4061\n",
      "Epoch 27/120\n",
      "71/71 [==============================] - 27s 376ms/step - loss: 0.6215 - accuracy: 0.7764 - val_loss: 2.6075 - val_accuracy: 0.4080\n",
      "Epoch 28/120\n",
      "71/71 [==============================] - 26s 367ms/step - loss: 0.6504 - accuracy: 0.7742 - val_loss: 2.4252 - val_accuracy: 0.3990\n",
      "Epoch 29/120\n",
      "71/71 [==============================] - 26s 368ms/step - loss: 0.6279 - accuracy: 0.7864 - val_loss: 2.4569 - val_accuracy: 0.3952\n",
      "Epoch 30/120\n",
      "71/71 [==============================] - 27s 387ms/step - loss: 0.5724 - accuracy: 0.8042 - val_loss: 2.6650 - val_accuracy: 0.4103\n",
      "Epoch 31/120\n",
      "71/71 [==============================] - 26s 365ms/step - loss: 0.5316 - accuracy: 0.8082 - val_loss: 2.6754 - val_accuracy: 0.3978\n",
      "Epoch 32/120\n",
      "71/71 [==============================] - 25s 352ms/step - loss: 0.5092 - accuracy: 0.8182 - val_loss: 2.9043 - val_accuracy: 0.4061\n",
      "Epoch 33/120\n",
      "71/71 [==============================] - 24s 345ms/step - loss: 0.4686 - accuracy: 0.8329 - val_loss: 2.8601 - val_accuracy: 0.4103\n",
      "Epoch 34/120\n",
      "71/71 [==============================] - 24s 336ms/step - loss: 0.4635 - accuracy: 0.8351 - val_loss: 3.0043 - val_accuracy: 0.3988\n",
      "Epoch 35/120\n",
      "71/71 [==============================] - 25s 348ms/step - loss: 0.4468 - accuracy: 0.8437 - val_loss: 3.0390 - val_accuracy: 0.3950\n",
      "Epoch 36/120\n",
      "71/71 [==============================] - 24s 335ms/step - loss: 0.4335 - accuracy: 0.8462 - val_loss: 3.1843 - val_accuracy: 0.3924\n",
      "Epoch 37/120\n",
      "71/71 [==============================] - 24s 345ms/step - loss: 0.4453 - accuracy: 0.8442 - val_loss: 3.3840 - val_accuracy: 0.3728\n",
      "Epoch 38/120\n",
      "71/71 [==============================] - 25s 358ms/step - loss: 0.4248 - accuracy: 0.8497 - val_loss: 2.9214 - val_accuracy: 0.3813\n",
      "Epoch 39/120\n",
      "71/71 [==============================] - 26s 366ms/step - loss: 0.3800 - accuracy: 0.8740 - val_loss: 3.3424 - val_accuracy: 0.4061\n",
      "Epoch 40/120\n",
      "71/71 [==============================] - 26s 364ms/step - loss: 0.3685 - accuracy: 0.8715 - val_loss: 3.6305 - val_accuracy: 0.3891\n",
      "Epoch 41/120\n",
      "71/71 [==============================] - 26s 373ms/step - loss: 0.3343 - accuracy: 0.8849 - val_loss: 3.5368 - val_accuracy: 0.3971\n",
      "Epoch 42/120\n",
      "71/71 [==============================] - 26s 362ms/step - loss: 0.2846 - accuracy: 0.9020 - val_loss: 3.9564 - val_accuracy: 0.3841\n",
      "Epoch 43/120\n",
      "71/71 [==============================] - 29s 414ms/step - loss: 0.2900 - accuracy: 0.8942 - val_loss: 3.8071 - val_accuracy: 0.3773\n",
      "Epoch 44/120\n",
      "71/71 [==============================] - 26s 368ms/step - loss: 0.3035 - accuracy: 0.8902 - val_loss: 3.8109 - val_accuracy: 0.3914\n",
      "Epoch 45/120\n",
      "71/71 [==============================] - 26s 375ms/step - loss: 0.2614 - accuracy: 0.9071 - val_loss: 3.8372 - val_accuracy: 0.3971\n",
      "Epoch 46/120\n",
      "71/71 [==============================] - 27s 382ms/step - loss: 0.5735 - accuracy: 0.8224 - val_loss: 2.7652 - val_accuracy: 0.3863\n",
      "Epoch 47/120\n",
      "71/71 [==============================] - 27s 378ms/step - loss: 0.4128 - accuracy: 0.8531 - val_loss: 3.3000 - val_accuracy: 0.3825\n",
      "Epoch 48/120\n",
      "71/71 [==============================] - 24s 346ms/step - loss: 0.3220 - accuracy: 0.8851 - val_loss: 3.4888 - val_accuracy: 0.3971\n",
      "Epoch 49/120\n",
      "71/71 [==============================] - 24s 340ms/step - loss: 0.2546 - accuracy: 0.9100 - val_loss: 3.9006 - val_accuracy: 0.3985\n",
      "Epoch 50/120\n",
      "71/71 [==============================] - 25s 348ms/step - loss: 0.3078 - accuracy: 0.8949 - val_loss: 3.4337 - val_accuracy: 0.3782\n",
      "Epoch 51/120\n",
      "71/71 [==============================] - 31s 444ms/step - loss: 0.2478 - accuracy: 0.9142 - val_loss: 3.7594 - val_accuracy: 0.4122\n",
      "Epoch 52/120\n",
      "71/71 [==============================] - 26s 369ms/step - loss: 0.2080 - accuracy: 0.9260 - val_loss: 4.3543 - val_accuracy: 0.3877\n",
      "Epoch 53/120\n",
      "71/71 [==============================] - 26s 367ms/step - loss: 0.1888 - accuracy: 0.9371 - val_loss: 4.0823 - val_accuracy: 0.3917\n",
      "Epoch 54/120\n",
      "71/71 [==============================] - 28s 402ms/step - loss: 0.2391 - accuracy: 0.9184 - val_loss: 3.8294 - val_accuracy: 0.3981\n",
      "Epoch 55/120\n",
      "71/71 [==============================] - 27s 388ms/step - loss: 0.2175 - accuracy: 0.9271 - val_loss: 4.3427 - val_accuracy: 0.3874\n",
      "Epoch 56/120\n",
      "71/71 [==============================] - 26s 366ms/step - loss: 0.1522 - accuracy: 0.9442 - val_loss: 4.3063 - val_accuracy: 0.3938\n",
      "Epoch 57/120\n"
     ]
    },
    {
     "name": "stdout",
     "output_type": "stream",
     "text": [
      "71/71 [==============================] - 27s 383ms/step - loss: 0.1343 - accuracy: 0.9535 - val_loss: 4.9707 - val_accuracy: 0.3813\n",
      "Epoch 58/120\n",
      "71/71 [==============================] - 26s 374ms/step - loss: 0.1288 - accuracy: 0.9582 - val_loss: 4.7301 - val_accuracy: 0.4007\n",
      "Epoch 59/120\n",
      "71/71 [==============================] - 29s 416ms/step - loss: 0.1500 - accuracy: 0.9471 - val_loss: 4.7492 - val_accuracy: 0.3886\n",
      "Epoch 60/120\n",
      "71/71 [==============================] - 26s 373ms/step - loss: 0.1705 - accuracy: 0.9393 - val_loss: 4.5430 - val_accuracy: 0.3903\n",
      "Epoch 61/120\n",
      "71/71 [==============================] - 26s 371ms/step - loss: 0.1299 - accuracy: 0.9575 - val_loss: 4.6187 - val_accuracy: 0.3811\n",
      "Epoch 62/120\n",
      "71/71 [==============================] - 27s 384ms/step - loss: 0.2016 - accuracy: 0.9309 - val_loss: 4.3789 - val_accuracy: 0.3896\n",
      "Epoch 63/120\n",
      "71/71 [==============================] - 26s 368ms/step - loss: 0.1270 - accuracy: 0.9575 - val_loss: 4.5958 - val_accuracy: 0.3820\n",
      "Epoch 64/120\n",
      "71/71 [==============================] - 26s 369ms/step - loss: 0.0869 - accuracy: 0.9729 - val_loss: 4.8652 - val_accuracy: 0.3957\n",
      "Epoch 65/120\n",
      "71/71 [==============================] - 26s 367ms/step - loss: 0.0888 - accuracy: 0.9711 - val_loss: 5.1016 - val_accuracy: 0.3943\n",
      "Epoch 66/120\n",
      "71/71 [==============================] - 27s 383ms/step - loss: 0.1344 - accuracy: 0.9569 - val_loss: 4.6253 - val_accuracy: 0.3855\n",
      "Epoch 67/120\n",
      "71/71 [==============================] - 25s 354ms/step - loss: 0.0903 - accuracy: 0.9709 - val_loss: 5.0994 - val_accuracy: 0.3981\n",
      "Epoch 68/120\n",
      "71/71 [==============================] - 26s 368ms/step - loss: 0.0815 - accuracy: 0.9738 - val_loss: 4.9411 - val_accuracy: 0.3955\n",
      "Epoch 69/120\n",
      "71/71 [==============================] - 26s 365ms/step - loss: 0.1201 - accuracy: 0.9607 - val_loss: 5.0616 - val_accuracy: 0.4066\n",
      "Epoch 70/120\n",
      "71/71 [==============================] - 25s 347ms/step - loss: 0.1027 - accuracy: 0.9698 - val_loss: 4.8980 - val_accuracy: 0.4080\n",
      "Epoch 71/120\n",
      "71/71 [==============================] - 27s 377ms/step - loss: 0.0892 - accuracy: 0.9680 - val_loss: 5.0783 - val_accuracy: 0.4059\n",
      "Epoch 72/120\n",
      "71/71 [==============================] - 25s 356ms/step - loss: 0.0857 - accuracy: 0.9709 - val_loss: 5.3046 - val_accuracy: 0.4004\n",
      "Epoch 73/120\n",
      "71/71 [==============================] - 27s 385ms/step - loss: 0.1405 - accuracy: 0.9582 - val_loss: 4.7370 - val_accuracy: 0.3888\n",
      "Epoch 74/120\n",
      "71/71 [==============================] - 25s 350ms/step - loss: 0.1360 - accuracy: 0.9531 - val_loss: 4.8859 - val_accuracy: 0.3919\n",
      "Epoch 75/120\n",
      "71/71 [==============================] - 24s 343ms/step - loss: 0.0522 - accuracy: 0.9844 - val_loss: 5.3482 - val_accuracy: 0.3950\n",
      "Epoch 76/120\n",
      "71/71 [==============================] - 29s 409ms/step - loss: 0.0342 - accuracy: 0.9918 - val_loss: 5.7665 - val_accuracy: 0.4000\n",
      "Epoch 77/120\n",
      "71/71 [==============================] - 27s 385ms/step - loss: 0.0255 - accuracy: 0.9940 - val_loss: 6.2276 - val_accuracy: 0.3877\n",
      "Epoch 78/120\n",
      "71/71 [==============================] - 28s 402ms/step - loss: 0.0242 - accuracy: 0.9940 - val_loss: 6.3635 - val_accuracy: 0.3981\n",
      "Epoch 79/120\n",
      "71/71 [==============================] - 26s 369ms/step - loss: 0.1653 - accuracy: 0.9467 - val_loss: 5.3326 - val_accuracy: 0.3688\n",
      "Epoch 80/120\n",
      "71/71 [==============================] - 27s 386ms/step - loss: 0.1960 - accuracy: 0.9371 - val_loss: 4.6741 - val_accuracy: 0.4007\n",
      "Epoch 81/120\n",
      "71/71 [==============================] - 30s 427ms/step - loss: 0.0736 - accuracy: 0.9787 - val_loss: 4.9286 - val_accuracy: 0.3888\n",
      "Epoch 82/120\n",
      "71/71 [==============================] - 23s 322ms/step - loss: 0.0270 - accuracy: 0.9949 - val_loss: 5.5199 - val_accuracy: 0.3974\n",
      "Epoch 83/120\n",
      "71/71 [==============================] - 22s 318ms/step - loss: 0.0174 - accuracy: 0.9960 - val_loss: 6.2351 - val_accuracy: 0.3910\n",
      "Epoch 84/120\n",
      "71/71 [==============================] - 23s 324ms/step - loss: 0.0102 - accuracy: 0.9980 - val_loss: 6.3602 - val_accuracy: 0.3962\n",
      "Epoch 85/120\n",
      "71/71 [==============================] - 19s 265ms/step - loss: 0.0095 - accuracy: 0.9989 - val_loss: 6.6217 - val_accuracy: 0.3886\n",
      "Epoch 86/120\n",
      "71/71 [==============================] - 20s 280ms/step - loss: 0.0100 - accuracy: 0.9980 - val_loss: 7.1346 - val_accuracy: 0.3853\n",
      "Epoch 87/120\n",
      "71/71 [==============================] - 19s 269ms/step - loss: 0.0835 - accuracy: 0.9704 - val_loss: 5.6225 - val_accuracy: 0.3718\n",
      "Epoch 88/120\n",
      "71/71 [==============================] - 16s 224ms/step - loss: 0.1102 - accuracy: 0.9669 - val_loss: 5.0098 - val_accuracy: 0.3893\n",
      "Epoch 89/120\n",
      "71/71 [==============================] - 14s 193ms/step - loss: 0.1003 - accuracy: 0.9662 - val_loss: 5.1530 - val_accuracy: 0.3877\n",
      "Epoch 90/120\n",
      "71/71 [==============================] - 13s 185ms/step - loss: 0.0698 - accuracy: 0.9818 - val_loss: 5.1384 - val_accuracy: 0.3903\n",
      "Epoch 91/120\n",
      "71/71 [==============================] - 13s 177ms/step - loss: 0.1426 - accuracy: 0.9533 - val_loss: 4.9117 - val_accuracy: 0.3903\n",
      "Epoch 92/120\n",
      "71/71 [==============================] - 11s 159ms/step - loss: 0.0455 - accuracy: 0.9873 - val_loss: 5.3131 - val_accuracy: 0.4054\n",
      "Epoch 93/120\n",
      "71/71 [==============================] - 11s 149ms/step - loss: 0.0177 - accuracy: 0.9960 - val_loss: 5.7051 - val_accuracy: 0.4040\n",
      "Epoch 94/120\n",
      "71/71 [==============================] - 11s 161ms/step - loss: 0.0150 - accuracy: 0.9962 - val_loss: 5.7095 - val_accuracy: 0.4037\n",
      "Epoch 95/120\n",
      "71/71 [==============================] - 11s 158ms/step - loss: 0.0176 - accuracy: 0.9953 - val_loss: 5.6316 - val_accuracy: 0.4103\n",
      "Epoch 96/120\n",
      "71/71 [==============================] - 11s 152ms/step - loss: 0.0374 - accuracy: 0.9884 - val_loss: 6.0384 - val_accuracy: 0.3940\n",
      "Epoch 97/120\n",
      "71/71 [==============================] - 11s 155ms/step - loss: 0.0358 - accuracy: 0.9902 - val_loss: 6.1979 - val_accuracy: 0.3955\n",
      "Epoch 98/120\n",
      "71/71 [==============================] - 11s 161ms/step - loss: 0.0662 - accuracy: 0.9833 - val_loss: 5.5929 - val_accuracy: 0.3803\n",
      "Epoch 99/120\n",
      "71/71 [==============================] - 11s 154ms/step - loss: 0.0950 - accuracy: 0.9689 - val_loss: 5.5854 - val_accuracy: 0.3948\n",
      "Epoch 100/120\n",
      "71/71 [==============================] - 12s 164ms/step - loss: 0.0830 - accuracy: 0.9707 - val_loss: 5.6438 - val_accuracy: 0.3903\n",
      "Epoch 101/120\n",
      "71/71 [==============================] - 14s 191ms/step - loss: 0.0647 - accuracy: 0.9789 - val_loss: 5.3546 - val_accuracy: 0.4016\n",
      "Epoch 102/120\n",
      "71/71 [==============================] - 12s 165ms/step - loss: 0.0307 - accuracy: 0.9909 - val_loss: 5.7667 - val_accuracy: 0.4066\n",
      "Epoch 103/120\n",
      "71/71 [==============================] - 11s 154ms/step - loss: 0.0400 - accuracy: 0.9869 - val_loss: 5.7109 - val_accuracy: 0.4035\n",
      "Epoch 104/120\n",
      "71/71 [==============================] - 11s 152ms/step - loss: 0.0300 - accuracy: 0.9916 - val_loss: 5.9006 - val_accuracy: 0.4068\n",
      "Epoch 105/120\n",
      "71/71 [==============================] - 12s 164ms/step - loss: 0.0357 - accuracy: 0.9887 - val_loss: 6.0847 - val_accuracy: 0.3940\n",
      "Epoch 106/120\n",
      "71/71 [==============================] - 12s 163ms/step - loss: 0.1032 - accuracy: 0.9711 - val_loss: 5.1842 - val_accuracy: 0.3988\n",
      "Epoch 107/120\n",
      "71/71 [==============================] - 11s 153ms/step - loss: 0.0850 - accuracy: 0.9749 - val_loss: 5.5346 - val_accuracy: 0.4052\n",
      "Epoch 108/120\n",
      "71/71 [==============================] - 13s 180ms/step - loss: 0.0591 - accuracy: 0.9796 - val_loss: 5.2902 - val_accuracy: 0.4004\n",
      "Epoch 109/120\n",
      "71/71 [==============================] - 13s 188ms/step - loss: 0.0575 - accuracy: 0.9831 - val_loss: 5.2252 - val_accuracy: 0.4063\n",
      "Epoch 110/120\n",
      "71/71 [==============================] - 12s 167ms/step - loss: 0.0497 - accuracy: 0.9864 - val_loss: 5.4562 - val_accuracy: 0.4061\n",
      "Epoch 111/120\n",
      "71/71 [==============================] - 12s 163ms/step - loss: 0.0114 - accuracy: 0.9980 - val_loss: 5.6300 - val_accuracy: 0.4033\n",
      "Epoch 112/120\n",
      "71/71 [==============================] - 12s 163ms/step - loss: 0.0041 - accuracy: 0.9993 - val_loss: 5.9990 - val_accuracy: 0.4021\n",
      "Epoch 113/120\n"
     ]
    },
    {
     "name": "stdout",
     "output_type": "stream",
     "text": [
      "71/71 [==============================] - 12s 164ms/step - loss: 0.0034 - accuracy: 0.9991 - val_loss: 6.2144 - val_accuracy: 0.4056\n",
      "Epoch 114/120\n",
      "71/71 [==============================] - 12s 164ms/step - loss: 0.0026 - accuracy: 0.9991 - val_loss: 6.2379 - val_accuracy: 0.4035\n",
      "Epoch 115/120\n",
      "71/71 [==============================] - 11s 157ms/step - loss: 0.0027 - accuracy: 0.9993 - val_loss: 6.3478 - val_accuracy: 0.3997\n",
      "Epoch 116/120\n",
      "71/71 [==============================] - 12s 172ms/step - loss: 0.0026 - accuracy: 0.9991 - val_loss: 6.3719 - val_accuracy: 0.4000\n",
      "Epoch 117/120\n",
      "71/71 [==============================] - 12s 171ms/step - loss: 0.0021 - accuracy: 0.9993 - val_loss: 6.6082 - val_accuracy: 0.4028\n",
      "Epoch 118/120\n",
      "71/71 [==============================] - 11s 158ms/step - loss: 0.0020 - accuracy: 0.9993 - val_loss: 6.6446 - val_accuracy: 0.3971\n",
      "Epoch 119/120\n",
      "71/71 [==============================] - 10s 145ms/step - loss: 0.0020 - accuracy: 0.9991 - val_loss: 6.6410 - val_accuracy: 0.4026\n",
      "Epoch 120/120\n",
      "71/71 [==============================] - 11s 149ms/step - loss: 0.0017 - accuracy: 0.9993 - val_loss: 6.8060 - val_accuracy: 0.3981\n"
     ]
    }
   ],
   "source": [
    "print(\"Train...\")\n",
    "model_mfcc=model.fit(X_train, y_train, batch_size=64, epochs=120, validation_data=(X_test, y_test))"
   ]
  },
  {
   "cell_type": "code",
   "execution_count": 10,
   "id": "46aa5bc6",
   "metadata": {},
   "outputs": [
    {
     "name": "stdout",
     "output_type": "stream",
     "text": [
      "Model: \"sequential\"\n",
      "_________________________________________________________________\n",
      "Layer (type)                 Output Shape              Param #   \n",
      "=================================================================\n",
      "lstm (LSTM)                  (None, 40, 64)            16896     \n",
      "_________________________________________________________________\n",
      "lstm_1 (LSTM)                (None, 128)               98816     \n",
      "_________________________________________________________________\n",
      "dense (Dense)                (None, 256)               33024     \n",
      "_________________________________________________________________\n",
      "dense_1 (Dense)              (None, 512)               131584    \n",
      "_________________________________________________________________\n",
      "dense_2 (Dense)              (None, 10)                5130      \n",
      "=================================================================\n",
      "Total params: 285,450\n",
      "Trainable params: 285,450\n",
      "Non-trainable params: 0\n",
      "_________________________________________________________________\n",
      "133/133 [==============================] - 6s 26ms/step - loss: 6.8060 - accuracy: 0.3981\n",
      "Pre-training accuracy: 39.8063%\n"
     ]
    }
   ],
   "source": [
    "# Compile the model\n",
    "model.compile(loss='categorical_crossentropy', metrics=['accuracy'], optimizer='adam')\n",
    "\n",
    "# Display model architecture summary \n",
    "model.summary()\n",
    "\n",
    "# Calculate pre-training accuracy \n",
    "score = model.evaluate(X_test, y_test, verbose=1)\n",
    "accuracy = 100*score[1]\n",
    "\n",
    "print(\"Pre-training accuracy: %.4f%%\" % accuracy) "
   ]
  },
  {
   "cell_type": "code",
   "execution_count": 11,
   "id": "b3cc986e",
   "metadata": {},
   "outputs": [
    {
     "name": "stdout",
     "output_type": "stream",
     "text": [
      "Training Accuracy:  0.9995554685592651\n",
      "Testing Accuracy:  0.3980628252029419\n"
     ]
    }
   ],
   "source": [
    "score = model.evaluate(X_train, y_train, verbose=0)\n",
    "print(\"Training Accuracy: \", score[1])\n",
    "\n",
    "score = model.evaluate(X_test, y_test, verbose=0)\n",
    "print(\"Testing Accuracy: \", score[1])"
   ]
  },
  {
   "cell_type": "code",
   "execution_count": 12,
   "id": "14295248",
   "metadata": {},
   "outputs": [
    {
     "name": "stdout",
     "output_type": "stream",
     "text": [
      "0.3980628252029419\n"
     ]
    }
   ],
   "source": [
    "test_accuracy=model.evaluate(X_test,y_test,verbose=0)\n",
    "print(test_accuracy[1])"
   ]
  },
  {
   "cell_type": "code",
   "execution_count": 13,
   "id": "9a5d6fd0",
   "metadata": {},
   "outputs": [
    {
     "name": "stdout",
     "output_type": "stream",
     "text": [
      "[8 3 8 ... 9 9 3]\n"
     ]
    }
   ],
   "source": [
    "#model.predict_classes(X_test)\n",
    "predict_x=model.predict(X_test) \n",
    "classes_x=np.argmax(predict_x,axis=1)\n",
    "print(classes_x)"
   ]
  },
  {
   "cell_type": "code",
   "execution_count": 14,
   "id": "a24b0af1",
   "metadata": {},
   "outputs": [
    {
     "data": {
      "image/png": "[encoded data removed]",
      "text/plain": [
       "<Figure size 432x288 with 1 Axes>"
      ]
     },
     "metadata": {
      "needs_background": "light"
     },
     "output_type": "display_data"
    },
    {
     "data": {
      "image/png": "[encoded data removed]",
      "text/plain": [
       "<Figure size 432x288 with 1 Axes>"
      ]
     },
     "metadata": {
      "needs_background": "light"
     },
     "output_type": "display_data"
    }
   ],
   "source": [
    "# summarize history for accuracy\n",
    "plt.plot(model_mfcc.history['accuracy'])\n",
    "plt.plot(model_mfcc.history['val_accuracy'])\n",
    "plt.title('model accuracy')\n",
    "plt.ylabel('accuracy')\n",
    "plt.xlabel('epoch')\n",
    "plt.legend(['train', 'test'], loc='upper left')\n",
    "plt.show()\n",
    "# summarize history for loss\n",
    "plt.plot(model_mfcc.history['loss'])\n",
    "plt.plot(model_mfcc.history['val_loss'])\n",
    "plt.title('model loss')\n",
    "plt.ylabel('loss')\n",
    "plt.xlabel('epoch')\n",
    "plt.legend(['train', 'test'], loc='upper left')\n",
    "plt.show()"
   ]
  },
  {
   "cell_type": "code",
   "execution_count": 15,
   "id": "2a3d47f1",
   "metadata": {},
   "outputs": [],
   "source": [
    "#Avg Test accuracy and Standart Devision "
   ]
  },
  {
   "cell_type": "code",
   "execution_count": 16,
   "id": "537e0922",
   "metadata": {},
   "outputs": [
    {
     "data": {
      "text/html": [
       "<div>\n",
       "<style scoped>\n",
       "    .dataframe tbody tr th:only-of-type {\n",
       "        vertical-align: middle;\n",
       "    }\n",
       "\n",
       "    .dataframe tbody tr th {\n",
       "        vertical-align: top;\n",
       "    }\n",
       "\n",
       "    .dataframe thead th {\n",
       "        text-align: right;\n",
       "    }\n",
       "</style>\n",
       "<table border=\"1\" class=\"dataframe\">\n",
       "  <thead>\n",
       "    <tr style=\"text-align: right;\">\n",
       "      <th></th>\n",
       "      <th>loss</th>\n",
       "      <th>accuracy</th>\n",
       "      <th>val_loss</th>\n",
       "      <th>val_accuracy</th>\n",
       "    </tr>\n",
       "  </thead>\n",
       "  <tbody>\n",
       "    <tr>\n",
       "      <th>0</th>\n",
       "      <td>2.152381</td>\n",
       "      <td>0.173816</td>\n",
       "      <td>2.108342</td>\n",
       "      <td>0.218757</td>\n",
       "    </tr>\n",
       "    <tr>\n",
       "      <th>1</th>\n",
       "      <td>2.007630</td>\n",
       "      <td>0.246721</td>\n",
       "      <td>2.066146</td>\n",
       "      <td>0.241200</td>\n",
       "    </tr>\n",
       "    <tr>\n",
       "      <th>2</th>\n",
       "      <td>1.958151</td>\n",
       "      <td>0.256501</td>\n",
       "      <td>2.102536</td>\n",
       "      <td>0.224191</td>\n",
       "    </tr>\n",
       "    <tr>\n",
       "      <th>3</th>\n",
       "      <td>1.903562</td>\n",
       "      <td>0.284952</td>\n",
       "      <td>2.095467</td>\n",
       "      <td>0.236948</td>\n",
       "    </tr>\n",
       "    <tr>\n",
       "      <th>4</th>\n",
       "      <td>1.868201</td>\n",
       "      <td>0.310736</td>\n",
       "      <td>2.003201</td>\n",
       "      <td>0.292228</td>\n",
       "    </tr>\n",
       "    <tr>\n",
       "      <th>...</th>\n",
       "      <td>...</td>\n",
       "      <td>...</td>\n",
       "      <td>...</td>\n",
       "      <td>...</td>\n",
       "    </tr>\n",
       "    <tr>\n",
       "      <th>115</th>\n",
       "      <td>0.002586</td>\n",
       "      <td>0.999111</td>\n",
       "      <td>6.371942</td>\n",
       "      <td>0.399953</td>\n",
       "    </tr>\n",
       "    <tr>\n",
       "      <th>116</th>\n",
       "      <td>0.002054</td>\n",
       "      <td>0.999333</td>\n",
       "      <td>6.608174</td>\n",
       "      <td>0.402788</td>\n",
       "    </tr>\n",
       "    <tr>\n",
       "      <th>117</th>\n",
       "      <td>0.002000</td>\n",
       "      <td>0.999333</td>\n",
       "      <td>6.644601</td>\n",
       "      <td>0.397118</td>\n",
       "    </tr>\n",
       "    <tr>\n",
       "      <th>118</th>\n",
       "      <td>0.001974</td>\n",
       "      <td>0.999111</td>\n",
       "      <td>6.641003</td>\n",
       "      <td>0.402551</td>\n",
       "    </tr>\n",
       "    <tr>\n",
       "      <th>119</th>\n",
       "      <td>0.001670</td>\n",
       "      <td>0.999333</td>\n",
       "      <td>6.805961</td>\n",
       "      <td>0.398063</td>\n",
       "    </tr>\n",
       "  </tbody>\n",
       "</table>\n",
       "<p>120 rows × 4 columns</p>\n",
       "</div>"
      ],
      "text/plain": [
       "         loss  accuracy  val_loss  val_accuracy\n",
       "0    2.152381  0.173816  2.108342      0.218757\n",
       "1    2.007630  0.246721  2.066146      0.241200\n",
       "2    1.958151  0.256501  2.102536      0.224191\n",
       "3    1.903562  0.284952  2.095467      0.236948\n",
       "4    1.868201  0.310736  2.003201      0.292228\n",
       "..        ...       ...       ...           ...\n",
       "115  0.002586  0.999111  6.371942      0.399953\n",
       "116  0.002054  0.999333  6.608174      0.402788\n",
       "117  0.002000  0.999333  6.644601      0.397118\n",
       "118  0.001974  0.999111  6.641003      0.402551\n",
       "119  0.001670  0.999333  6.805961      0.398063\n",
       "\n",
       "[120 rows x 4 columns]"
      ]
     },
     "execution_count": 16,
     "metadata": {},
     "output_type": "execute_result"
    }
   ],
   "source": [
    "train_hist = pd.DataFrame(model_mfcc.history)\n",
    "train_hist"
   ]
  },
  {
   "cell_type": "code",
   "execution_count": 17,
   "id": "7623f988",
   "metadata": {},
   "outputs": [
    {
     "name": "stdout",
     "output_type": "stream",
     "text": [
      "count    120.000000\n",
      "mean       0.385003\n",
      "std        0.037015\n",
      "min        0.218757\n",
      "25%        0.386133\n",
      "50%        0.395464\n",
      "75%        0.402197\n",
      "max        0.420742\n",
      "Name: val_accuracy, dtype: float64\n"
     ]
    }
   ],
   "source": [
    "print(train_hist[\"val_accuracy\"].describe())"
   ]
  },
  {
   "cell_type": "code",
   "execution_count": null,
   "id": "f99e9261",
   "metadata": {},
   "outputs": [],
   "source": []
  },
  {
   "cell_type": "code",
   "execution_count": 18,
   "id": "5b6534ec",
   "metadata": {},
   "outputs": [
    {
     "data": {
      "image/png": "[encoded data removed]",
      "text/plain": [
       "<Figure size 1440x576 with 1 Axes>"
      ]
     },
     "metadata": {
      "needs_background": "light"
     },
     "output_type": "display_data"
    },
    {
     "data": {
      "image/png": "[encoded data removed]",
      "text/plain": [
       "<Figure size 1440x576 with 1 Axes>"
      ]
     },
     "metadata": {
      "needs_background": "light"
     },
     "output_type": "display_data"
    }
   ],
   "source": [
    "plt.figure(figsize=(20,8))\n",
    "plt.plot(train_hist[['loss','val_loss']])\n",
    "plt.legend(['Loss','Test Loss'])\n",
    "plt.title('Model Loss')\n",
    "plt.xlabel('Epochs')\n",
    "plt.ylabel('Loss')\n",
    "plt.show()\n",
    "\n",
    "plt.figure(figsize=(20,8))\n",
    "plt.plot(train_hist[['accuracy','val_accuracy']])\n",
    "plt.legend(['Train Accuracy','Test Accuracy'])\n",
    "plt.title('Model Accuracy')\n",
    "plt.xlabel('Epochs')\n",
    "plt.ylabel('Accuracy')\n",
    "plt.show()"
   ]
  },
  {
   "cell_type": "code",
   "execution_count": 19,
   "id": "44ccc20e",
   "metadata": {},
   "outputs": [
    {
     "name": "stdout",
     "output_type": "stream",
     "text": [
      "\n",
      "Confusion Matrix :\n",
      "\n",
      "\n",
      "[[122   1  38  28  13  67   0  79  38 114]\n",
      " [  2 141   4   6  12   1   0  11  13  31]\n",
      " [ 17   3 185 120  15  22  16   2  60  60]\n",
      " [ 13   8  69 268  26   4  10   3  57  42]\n",
      " [ 10  24  35  86 124  32  15  84  19  71]\n",
      " [ 46  27  31  49  15 224   0  18  30  43]\n",
      " [  2   1  28  37   1   1  96   0  10   8]\n",
      " [  4  46  23  19 158   7   2 118  24  51]\n",
      " [ 13  20  26 102  10   3   4   7 181  27]\n",
      " [ 51  18  43  37  47  16   5  32  25 226]]\n",
      "\n",
      "\n",
      "Classification Report : \n",
      "\n",
      "               precision    recall  f1-score   support\n",
      "\n",
      "           0       0.44      0.24      0.31       500\n",
      "           1       0.49      0.64      0.55       221\n",
      "           2       0.38      0.37      0.38       500\n",
      "           3       0.36      0.54      0.43       500\n",
      "           4       0.29      0.25      0.27       500\n",
      "           5       0.59      0.46      0.52       483\n",
      "           6       0.65      0.52      0.58       184\n",
      "           7       0.33      0.26      0.29       452\n",
      "           8       0.40      0.46      0.43       393\n",
      "           9       0.34      0.45      0.39       500\n",
      "\n",
      "    accuracy                           0.40      4233\n",
      "   macro avg       0.43      0.42      0.41      4233\n",
      "weighted avg       0.41      0.40      0.39      4233\n",
      "\n"
     ]
    }
   ],
   "source": [
    "ytrue = np.argmax(y_test,axis=1)\n",
    "ypred = np.argmax(model.predict(X_test),axis=1)\n",
    "print('\\nConfusion Matrix :\\n\\n')\n",
    "print(confusion_matrix(ytrue,ypred))\n",
    "print('\\n\\nClassification Report : \\n\\n',classification_report(ytrue,ypred))"
   ]
  },
  {
   "cell_type": "code",
   "execution_count": null,
   "id": "6f63c192",
   "metadata": {},
   "outputs": [],
   "source": []
  }
 ],
 "metadata": {
  "kernelspec": {
   "display_name": "Python 3 (ipykernel)",
   "language": "python",
   "name": "python3"
  },
  "language_info": {
   "codemirror_mode": {
    "name": "ipython",
    "version": 3
   },
   "file_extension": ".py",
   "mimetype": "text/x-python",
   "name": "python",
   "nbconvert_exporter": "python",
   "pygments_lexer": "ipython3",
   "version": "3.9.12"
  }
 },
 "nbformat": 4,
 "nbformat_minor": 5
}
